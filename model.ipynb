{
 "cells": [
  {
   "cell_type": "code",
   "execution_count": 1,
   "metadata": {},
   "outputs": [
    {
     "data": {
      "text/plain": [
       "array([-1], dtype=int64)"
      ]
     },
     "execution_count": 1,
     "metadata": {},
     "output_type": "execute_result"
    }
   ],
   "source": [
    "######### Some Important Libraries\n",
    "\n",
    "#!pip install selenium\n",
    "#!pip install dhash\n",
    "#!pip install tldextract\n",
    "#!pip install PIL\n",
    "#!pip install bs4\n",
    "\n",
    "\n",
    "#!pip3 install flask\n",
    "import matplotlib.pyplot as plt\n",
    "import pandas as pd\n",
    "import numpy as np\n",
    "from sklearn import metrics\n",
    "import pickle\n",
    "\n",
    "\n",
    "################################# SEUILLAGE DES SCORES TEXTE ET PERCEPTION ##############################################\n",
    "\n",
    "PhishingLegitimeSHA3224SS=pd.read_csv('C:/Users/bkoua/Eprojet_/SHA3224/PhishingLegitimeSHA3224SS.csv')\n",
    "df1 = PhishingLegitimeSHA3224SS\n",
    "################################# SEUILLAGE DU TEXTE ET DE LA PERCEPTION ##############################################\n",
    "for index in range(0,len(df1)): \n",
    "    #print (index)\n",
    "    if( df1.iat[index,1] == 0 or df1.iat[index,1]>10 or df1.iat[index,1]<-10):\n",
    "        df1.iat[index,1] = -1\n",
    "    #print (df1 )\n",
    "    else:\n",
    "        df1.iat[index,1] = 1\n",
    "for index in range(0,len(df1)): \n",
    "    #print (index)\n",
    "    if( df1.iat[index,2] == 0 or df1.iat[index,2]>5 or df1.iat[index,2]<-5):\n",
    "        df1.iat[index,2] = -1\n",
    "    #print (df1 )\n",
    "    else:\n",
    "        df1.iat[index,2] = 1\n",
    "        \n",
    "        \n",
    "dataset = df1        \n",
    "################################ Splitting the dataset into the Training set and Test set ###########################\n",
    "from sklearn.model_selection import train_test_split\n",
    "from sklearn.svm import SVC\n",
    "X4 = dataset.iloc[:, [1,2,3,4,5,6,7,9,10]].values\n",
    "y = dataset.iloc[:, 11].values\n",
    "X_train, X_test, y_train, y_test = train_test_split(X4, y, test_size = 0.25, random_state = 0)\n",
    "# Fitting model with training data\n",
    "classifier = SVC(kernel='linear', C=1, random_state=0).fit(X_train, y_train)#SVC(kernel = 'linear', random_state = 0)\n",
    "# Save model to the disk\n",
    "pickle.dump(classifier,open('model.pkl','wb'))\n",
    "# Loading model to compare the results\n",
    "model = pickle.load(open('model.pkl','rb'))\n",
    "\n",
    "#Predicting the Test set results\n",
    "y1_pred = model.predict([[-1,-1,1,1,1,1,-1,1,1]])\n",
    "y1_pred\n",
    "\n"
   ]
  },
  {
   "cell_type": "code",
   "execution_count": null,
   "metadata": {},
   "outputs": [],
   "source": []
  }
 ],
 "metadata": {
  "kernelspec": {
   "display_name": "Python 3",
   "language": "python",
   "name": "python3"
  },
  "language_info": {
   "codemirror_mode": {
    "name": "ipython",
    "version": 3
   },
   "file_extension": ".py",
   "mimetype": "text/x-python",
   "name": "python",
   "nbconvert_exporter": "python",
   "pygments_lexer": "ipython3",
   "version": "3.7.6"
  }
 },
 "nbformat": 4,
 "nbformat_minor": 4
}
